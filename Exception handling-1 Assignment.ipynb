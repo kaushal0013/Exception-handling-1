{
 "cells": [
  {
   "cell_type": "markdown",
   "id": "df3f50d6-c51e-47a9-ab84-83131c7f5e15",
   "metadata": {},
   "source": [
    "Q1. What is an Exception in python? Write the difference between Exceptions and Syntax errors"
   ]
  },
  {
   "cell_type": "code",
   "execution_count": null,
   "id": "6ce90de2-1c24-41ba-9959-7f636eb42832",
   "metadata": {},
   "outputs": [],
   "source": []
  },
  {
   "cell_type": "code",
   "execution_count": null,
   "id": "7a8ef026-31a4-4ec0-9c00-5495d47f94eb",
   "metadata": {},
   "outputs": [],
   "source": []
  },
  {
   "cell_type": "raw",
   "id": "50fe0932-7ab4-4a25-a54f-580b0d429c54",
   "metadata": {},
   "source": [
    "Ans.\n",
    "In Python, an exception is an event that occurs during the execution of a program that disrupts the normal flow of the program. When an exception is raised, it can be handled by the program to prevent it from crashing. Exceptions are used to handle errors and exceptional situations gracefully.\n",
    "\n",
    "Here are some key differences between exceptions and syntax errors:\n",
    "\n",
    "Exception:\n",
    "\n",
    "Exceptions occur at runtime when a program is executing.\n",
    "They are typically caused by issues like attempting to divide by zero, trying to access an undefined variable, or attempting to open a non-existent file.\n",
    "Exceptions can be caught and handled using try, except, and other related constructs, allowing the program to recover or perform specific actions in response to the exception.\n",
    "Examples of exceptions include ZeroDivisionError, NameError, and FileNotFoundError.\n",
    "Syntax Error:\n",
    "\n",
    "Syntax errors, also known as parsing errors, occur before the program is executed. They are detected by the Python interpreter when it tries to parse the code to create a bytecode.\n",
    "Syntax errors are caused by violations of the Python language's syntax rules. These violations could include incorrect indentation, missing colons, or mistyped keywords.\n",
    "Syntax errors prevent the program from running at all. The program won't start until all syntax errors are fixed.\n",
    "Examples of syntax errors include forgetting to close a parenthesis, using invalid variable names, or improperly indenting code blocks.\n",
    "In summary, exceptions are runtime errors that occur when a program is running, and they can be handled to allow the program to continue executing. Syntax errors, on the other hand, are detected before the program starts running and prevent the program from executing until they are fixed."
   ]
  },
  {
   "cell_type": "code",
   "execution_count": null,
   "id": "e3896641-3904-4a44-9b6a-6f286fdcdc71",
   "metadata": {},
   "outputs": [],
   "source": []
  },
  {
   "cell_type": "markdown",
   "id": "8ec7b13d-3769-4ba9-bcd6-6b9f4bcdab5e",
   "metadata": {},
   "source": [
    "Q2. What happens when an exception is not handled? Explain with an example."
   ]
  },
  {
   "cell_type": "raw",
   "id": "36b53118-e0a1-4a0e-a7ae-f7c367646ce0",
   "metadata": {},
   "source": [
    "Ans.\n",
    "When an exception is not handled in a Python program, it will result in the program terminating or crashing. The default behavior in Python is to display an error message along with a traceback, which shows the sequence of function calls and lines of code that led to the exception. This traceback helps you identify the source of the problem. Essentially, an unhandled exception causes the program to stop executing."
   ]
  },
  {
   "cell_type": "code",
   "execution_count": 7,
   "id": "8b5bbf1f-d6d1-4edd-80ee-83ed31eac04f",
   "metadata": {},
   "outputs": [
    {
     "ename": "ZeroDivisionError",
     "evalue": "division by zero",
     "output_type": "error",
     "traceback": [
      "\u001b[0;31m---------------------------------------------------------------------------\u001b[0m",
      "\u001b[0;31mZeroDivisionError\u001b[0m                         Traceback (most recent call last)",
      "Cell \u001b[0;32mIn[7], line 4\u001b[0m\n\u001b[1;32m      1\u001b[0m \u001b[38;5;28;01mdef\u001b[39;00m \u001b[38;5;21mdivide\u001b[39m(a, b):\n\u001b[1;32m      2\u001b[0m     \u001b[38;5;28;01mreturn\u001b[39;00m a \u001b[38;5;241m/\u001b[39m b\n\u001b[0;32m----> 4\u001b[0m result \u001b[38;5;241m=\u001b[39m \u001b[43mdivide\u001b[49m\u001b[43m(\u001b[49m\u001b[38;5;241;43m10\u001b[39;49m\u001b[43m,\u001b[49m\u001b[43m \u001b[49m\u001b[38;5;241;43m0\u001b[39;49m\u001b[43m)\u001b[49m\n\u001b[1;32m      5\u001b[0m \u001b[38;5;28mprint\u001b[39m(\u001b[38;5;124m\"\u001b[39m\u001b[38;5;124mResult:\u001b[39m\u001b[38;5;124m\"\u001b[39m, result)\n",
      "Cell \u001b[0;32mIn[7], line 2\u001b[0m, in \u001b[0;36mdivide\u001b[0;34m(a, b)\u001b[0m\n\u001b[1;32m      1\u001b[0m \u001b[38;5;28;01mdef\u001b[39;00m \u001b[38;5;21mdivide\u001b[39m(a, b):\n\u001b[0;32m----> 2\u001b[0m     \u001b[38;5;28;01mreturn\u001b[39;00m \u001b[43ma\u001b[49m\u001b[43m \u001b[49m\u001b[38;5;241;43m/\u001b[39;49m\u001b[43m \u001b[49m\u001b[43mb\u001b[49m\n",
      "\u001b[0;31mZeroDivisionError\u001b[0m: division by zero"
     ]
    }
   ],
   "source": [
    "def divide(a, b):\n",
    "    return a / b\n",
    "\n",
    "result = divide(10, 0)\n",
    "print(\"Result:\", result)\n"
   ]
  },
  {
   "cell_type": "code",
   "execution_count": null,
   "id": "9f33e63b-fb5e-47b7-8fcf-840f55494738",
   "metadata": {},
   "outputs": [],
   "source": []
  },
  {
   "cell_type": "markdown",
   "id": "54f8c2f8-f106-4d24-b8fc-41320d007f2d",
   "metadata": {},
   "source": [
    "Q3. Which Python statements are used to catch and handle exceptions? Explain with an example."
   ]
  },
  {
   "cell_type": "raw",
   "id": "c002e825-d2d7-40d5-96e3-3792684e3343",
   "metadata": {},
   "source": [
    "ans.\n",
    "Python uses try, except, else, and finally statements to catch and handle exceptions. These statements are part of the exception handling mechanism in Python. "
   ]
  },
  {
   "cell_type": "code",
   "execution_count": 8,
   "id": "4798d307-7153-40f7-9a59-fe8f76e25aaa",
   "metadata": {},
   "outputs": [
    {
     "name": "stdin",
     "output_type": "stream",
     "text": [
      "Enter a number:  5\n"
     ]
    },
    {
     "name": "stdout",
     "output_type": "stream",
     "text": [
      "Result: 2.0\n",
      "Execution complete.\n"
     ]
    }
   ],
   "source": [
    "try:\n",
    "    num = int(input(\"Enter a number: \"))\n",
    "    result = 10 / num\n",
    "except ValueError:\n",
    "    print(\"Invalid input. Please enter a valid number.\")\n",
    "except ZeroDivisionError:\n",
    "    print(\"You can't divide by zero.\")\n",
    "else:\n",
    "    print(\"Result:\", result)\n",
    "finally:\n",
    "    print(\"Execution complete.\")\n",
    "\n"
   ]
  },
  {
   "cell_type": "code",
   "execution_count": null,
   "id": "fcac2c07-01e9-48da-acb1-31e51666dcc8",
   "metadata": {},
   "outputs": [],
   "source": []
  },
  {
   "cell_type": "markdown",
   "id": "f59c0884-cffd-4b25-a41a-b27fe9319a62",
   "metadata": {},
   "source": [
    "Q4. Explain with an example:\n",
    "\n",
    "a. try and else\n",
    "\n",
    "b. finally \n",
    "c. raise"
   ]
  },
  {
   "cell_type": "raw",
   "id": "f1c93acb-671e-4a08-84df-9f80d385304e",
   "metadata": {},
   "source": [
    "a. try and else:\n",
    "\n",
    "The try and else blocks are often used together. The try block contains code that may raise an exception, and the else block is executed if no exception occurs within the try block. This is useful for separating the main code from the exception handling code."
   ]
  },
  {
   "cell_type": "code",
   "execution_count": 9,
   "id": "050b9386-2236-4c1a-9573-9e17bf184a46",
   "metadata": {},
   "outputs": [
    {
     "name": "stdin",
     "output_type": "stream",
     "text": [
      "Enter a number:  4\n"
     ]
    },
    {
     "name": "stdout",
     "output_type": "stream",
     "text": [
      "Result: 2.5\n"
     ]
    }
   ],
   "source": [
    "try:\n",
    "    num = int(input(\"Enter a number: \"))\n",
    "    result = 10 / num\n",
    "except ValueError:\n",
    "    print(\"Invalid input. Please enter a valid number.\")\n",
    "else:\n",
    "    print(\"Result:\", result)\n"
   ]
  },
  {
   "cell_type": "raw",
   "id": "d3108774-e50b-4efe-9dfd-c432eb05efc4",
   "metadata": {},
   "source": [
    "b. finally:\n",
    "\n",
    "The finally block is used for code that needs to be executed regardless of whether an exception was raised or not. It's often used for cleanup operations, such as closing files or releasing resources."
   ]
  },
  {
   "cell_type": "code",
   "execution_count": 10,
   "id": "27b91855-8ba1-4f4e-b060-9175790b71c8",
   "metadata": {},
   "outputs": [
    {
     "name": "stdout",
     "output_type": "stream",
     "text": [
      "File not found.\n"
     ]
    }
   ],
   "source": [
    "file = None\n",
    "try:\n",
    "    file = open(\"example.txt\", \"r\")\n",
    "    data = file.read()\n",
    "except FileNotFoundError:\n",
    "    print(\"File not found.\")\n",
    "else:\n",
    "    print(\"File contents:\", data)\n",
    "finally:\n",
    "    if file is not None:\n",
    "        file.close() \n"
   ]
  },
  {
   "cell_type": "raw",
   "id": "d8f573aa-3b38-4fe4-b004-bfa71decda8a",
   "metadata": {},
   "source": [
    "c. raise:\n",
    "\n",
    "The raise statement is used to explicitly raise an exception in your code. You can use it to create and raise custom exceptions or to re-raise exceptions with additional information."
   ]
  },
  {
   "cell_type": "code",
   "execution_count": 11,
   "id": "d11b3896-a756-42b0-83d3-d82e8e19c767",
   "metadata": {},
   "outputs": [
    {
     "name": "stdout",
     "output_type": "stream",
     "text": [
      "An error occurred: Division by zero is not allowed.\n"
     ]
    }
   ],
   "source": [
    "def divide(a, b):\n",
    "    if b == 0:\n",
    "        raise ValueError(\"Division by zero is not allowed.\")\n",
    "    return a / b\n",
    "\n",
    "try:\n",
    "    result = divide(10, 0)\n",
    "except ValueError as e:\n",
    "    print(\"An error occurred:\", e)\n"
   ]
  },
  {
   "cell_type": "code",
   "execution_count": null,
   "id": "1b0e7578-0502-46bc-8054-b38187304b61",
   "metadata": {},
   "outputs": [],
   "source": []
  },
  {
   "cell_type": "raw",
   "id": "b6821e47-bec3-49bb-8a11-f8b7bd342176",
   "metadata": {},
   "source": [
    "Q5. What are Custom Exceptions in python? Why do we need Custom Exceptions? Explain with an example."
   ]
  },
  {
   "cell_type": "raw",
   "id": "22dee203-37b5-4851-9830-036aef1de1df",
   "metadata": {},
   "source": [
    "In Python, custom exceptions, also known as user-defined exceptions, are exceptions that you create yourself to represent specific error conditions or exceptional situations in your code. These exceptions extend Python's built-in exception classes and allow you to provide meaningful error messages and handle errors in a way that makes sense for your application.\n",
    "\n",
    "Why do we need Custom Exceptions?\n",
    "\n",
    "Clarity and Readability: Custom exceptions make your code more readable and self-explanatory. They provide descriptive names that convey the nature of the error, which helps other developers understand the purpose of the exception and how to handle it.\n",
    "\n",
    "Structured Error Handling: Custom exceptions allow you to structure the error-handling logic in your code more effectively. You can catch specific custom exceptions and handle them in a way that's appropriate for your application.\n",
    "\n",
    "Centralized Exception Handling: Custom exceptions can help you centralize your exception-handling logic. You can create a hierarchy of custom exceptions to categorize and handle errors more efficiently."
   ]
  },
  {
   "cell_type": "code",
   "execution_count": 12,
   "id": "c9667071-a79c-4ac8-9cc2-bbe11df49d36",
   "metadata": {},
   "outputs": [
    {
     "name": "stdout",
     "output_type": "stream",
     "text": [
      "Email sent successfully.\n"
     ]
    }
   ],
   "source": [
    "class InvalidEmailError(Exception):\n",
    "    def __init__(self, email):\n",
    "        self.email = email\n",
    "        self.message = f\"Invalid email address: {email}\"\n",
    "        super().__init__(self.message)\n",
    "\n",
    "def send_email(to, subject, message):\n",
    "    if not \"@\" in to:\n",
    "        raise InvalidEmailError(to)\n",
    "\n",
    "\n",
    "try:\n",
    "    send_email(\"user@example.com\", \"Hello\", \"This is a test email.\")\n",
    "except InvalidEmailError as e:\n",
    "    print(f\"Error: {e}\")\n",
    "else:\n",
    "    print(\"Email sent successfully.\")\n"
   ]
  },
  {
   "cell_type": "code",
   "execution_count": null,
   "id": "fa23b296-f5a8-4b12-a326-8040b5869c1c",
   "metadata": {},
   "outputs": [],
   "source": []
  },
  {
   "cell_type": "markdown",
   "id": "bbf129df-20ec-4a74-8989-a9c1bb0ab314",
   "metadata": {},
   "source": [
    "Q6. Create a custom exception class. Use this class to handle on exception."
   ]
  },
  {
   "cell_type": "code",
   "execution_count": 1,
   "id": "b7ca47ca-da36-4564-a54c-ff2474e85e62",
   "metadata": {},
   "outputs": [
    {
     "name": "stdin",
     "output_type": "stream",
     "text": [
      "Enter a number:  22\n"
     ]
    },
    {
     "name": "stdout",
     "output_type": "stream",
     "text": [
      "Square root of 22.0 is 4.69\n"
     ]
    }
   ],
   "source": [
    "class NegativeValueError(Exception):\n",
    "    def __init__(self, value_name, value):\n",
    "        self.value_name = value_name\n",
    "        self.value = value\n",
    "        self.message = f\"{value_name} cannot be negative: {value}\"\n",
    "        super().__init__(self.message)\n",
    "\n",
    "def calculate_square_root(value):\n",
    "    if value < 0:\n",
    "        raise NegativeValueError(\"Value\", value)\n",
    "    return value ** 0.5\n",
    "\n",
    "try:\n",
    "    number = float(input(\"Enter a number: \"))\n",
    "    result = calculate_square_root(number)\n",
    "    print(f\"Square root of {number} is {result:.2f}\")\n",
    "except NegativeValueError as e:\n",
    "    print(f\"Error: {e}\")\n",
    "except ValueError:\n",
    "    print(\"Invalid input. Please enter a valid number.\")\n"
   ]
  },
  {
   "cell_type": "code",
   "execution_count": null,
   "id": "29f8d20e-7dde-4b86-ad14-5a5f92b69a58",
   "metadata": {},
   "outputs": [],
   "source": []
  },
  {
   "cell_type": "code",
   "execution_count": null,
   "id": "e3c5db0f-8f79-4366-84aa-6ad5f951c421",
   "metadata": {},
   "outputs": [],
   "source": []
  },
  {
   "cell_type": "code",
   "execution_count": null,
   "id": "ae9b7957-bd88-4f08-ad19-add961189bdf",
   "metadata": {},
   "outputs": [],
   "source": []
  },
  {
   "cell_type": "code",
   "execution_count": null,
   "id": "d4e63953-eb65-4a16-afd5-0804b17dd229",
   "metadata": {},
   "outputs": [],
   "source": []
  },
  {
   "cell_type": "code",
   "execution_count": null,
   "id": "adcf087a-95ac-4c56-a17f-b84fb3834926",
   "metadata": {},
   "outputs": [],
   "source": []
  },
  {
   "cell_type": "code",
   "execution_count": null,
   "id": "7f9273b8-91f4-4237-95b8-a87cb26e0e3b",
   "metadata": {},
   "outputs": [],
   "source": []
  },
  {
   "cell_type": "code",
   "execution_count": null,
   "id": "bb00c8be-b81c-4a33-8be7-d22c3010a82d",
   "metadata": {},
   "outputs": [],
   "source": []
  }
 ],
 "metadata": {
  "kernelspec": {
   "display_name": "Python 3 (ipykernel)",
   "language": "python",
   "name": "python3"
  },
  "language_info": {
   "codemirror_mode": {
    "name": "ipython",
    "version": 3
   },
   "file_extension": ".py",
   "mimetype": "text/x-python",
   "name": "python",
   "nbconvert_exporter": "python",
   "pygments_lexer": "ipython3",
   "version": "3.10.8"
  }
 },
 "nbformat": 4,
 "nbformat_minor": 5
}
